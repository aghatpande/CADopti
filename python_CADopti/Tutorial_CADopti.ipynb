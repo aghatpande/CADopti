{
 "cells": [
  {
   "cell_type": "code",
   "execution_count": 1,
   "metadata": {},
   "outputs": [],
   "source": [
    "import numpy as np\n",
    "import matplotlib.pyplot as plt\n",
    "import scipy.io as sio\n",
    "\n",
    "# Import the CADopti function and other necessary functions\n",
    "from assembly_assignment_matrix import assembly_assignment_matrix\n",
    "from assembly_activity_function import assembly_activity_function\n",
    "\n",
    "from importnb import Notebook\n",
    "with Notebook():\n",
    "    from CADopti_notebook import CADopti\n"
   ]
  },
  {
   "cell_type": "code",
   "execution_count": 2,
   "metadata": {},
   "outputs": [
    {
     "name": "stdout",
     "output_type": "stream",
     "text": [
      "Number of neurons: 50\n",
      "Number of spikes per neuron:\n",
      "[6722, 6551, 6631, 6631, 6765, 6679, 6617, 6594, 6568, 6599, 7061, 7301, 6727, 7350, 6899, 7746, 7616, 7695, 7723, 7747, 8945, 9033, 9134, 9133, 9003, 6403, 6335, 6350, 6218, 6479, 6333, 6458, 6383, 6324, 6392, 6310, 6332, 6457, 6306, 6372, 6476, 6272, 6305, 6334, 6332, 6367, 6291, 6357, 6289, 6374]\n"
     ]
    }
   ],
   "source": [
    "# Load data from the .mat file\n",
    "mat_data = sio.loadmat('Data.mat')\n",
    "\n",
    "# Uncomment the following lines if you need to troubleshoot loading the data\n",
    "# print(\"Keys in Data.mat:\", mat_data.keys())\n",
    "# print(\"spM shape:\", mat_data['spM'].shape)\n",
    "# print(\"spM data type:\", mat_data['spM'].dtype)\n",
    "# print(\"Sample of spM (first 5 rows, first 10 columns):\")\n",
    "# print(mat_data['spM'][:5, :10])\n",
    "\n",
    "# Assign spM correctly\n",
    "spM = mat_data['spM']\n",
    "\n",
    "# Convert spM to a list of spike times, removing NaNs\n",
    "spike_times = [row[~np.isnan(row)] for row in spM]\n",
    "\n",
    "# Print some statistics to check if the data is correct\n",
    "print(\"Number of neurons:\", len(spike_times))\n",
    "print(\"Number of spikes per neuron:\")\n",
    "print([len(spikes) for spikes in spike_times])"
   ]
  },
  {
   "cell_type": "code",
   "execution_count": 4,
   "metadata": {},
   "outputs": [],
   "source": [
    "# Check if there are any empty spike trains\n",
    "empty_trains = [i for i, spikes in enumerate(spike_times) if len(spikes) == 0]\n",
    "if empty_trains:\n",
    "    print(f\"Empty spike trains found at indices: {empty_trains}\")\n",
    "\n",
    "# Check for NaNs, Infinities, and Identical Values\n",
    "for i, spikes in enumerate(spike_times):\n",
    "    if np.isnan(spikes).any():\n",
    "        print(f\"NaNs found in spike train {i}\")\n",
    "    if np.isinf(spikes).any():\n",
    "        print(f\"Infinities found in spike train {i}\")\n",
    "    if len(np.unique(spikes)) == 1:\n",
    "        print(f\"Identical spike times found in spike train {i}: {spikes}\")"
   ]
  },
  {
   "cell_type": "code",
   "execution_count": 5,
   "metadata": {},
   "outputs": [
    {
     "name": "stdout",
     "output_type": "stream",
     "text": [
      "Spike train 0 inter-spike intervals (min, max, mean): 0.006989250650462964, 1.575759369102741, 0.2033603596023709\n",
      "Spike train 1 inter-spike intervals (min, max, mean): 0.006989250650462964, 1.880338923038238, 0.208710458019369\n",
      "Spike train 2 inter-spike intervals (min, max, mean): 0.006989250650462964, 2.0024313813671597, 0.20611428288051573\n",
      "Spike train 3 inter-spike intervals (min, max, mean): 0.006989250650462964, 1.5707407287889055, 0.20614927576253922\n",
      "Spike train 4 inter-spike intervals (min, max, mean): 0.006989250650462964, 1.922688834340903, 0.2021202567704867\n",
      "Spike train 5 inter-spike intervals (min, max, mean): 0.007057196032974389, 1.9981355697564993, 0.20467791812197883\n",
      "Spike train 6 inter-spike intervals (min, max, mean): 0.007057196032974389, 1.8155607412246582, 0.20660231871383578\n",
      "Spike train 7 inter-spike intervals (min, max, mean): 0.007057196032974389, 2.2983896190800124, 0.2072584084052289\n",
      "Spike train 8 inter-spike intervals (min, max, mean): 0.007057196032974389, 1.7872375828689542, 0.20814773011897594\n",
      "Spike train 9 inter-spike intervals (min, max, mean): 0.007057196032974389, 2.063040001678587, 0.20713952106750658\n",
      "Spike train 10 inter-spike intervals (min, max, mean): 0.0022957879325531394, 2.054407893254975, 0.1936224767617601\n",
      "Spike train 11 inter-spike intervals (min, max, mean): 0.00045835265677851567, 1.8130108389264024, 0.18717710949689367\n",
      "Spike train 12 inter-spike intervals (min, max, mean): 0.009067515929302772, 1.7323267528097404, 0.20312985172807457\n",
      "Spike train 13 inter-spike intervals (min, max, mean): 0.0009911182271480357, 1.4088254956179753, 0.1859937755742645\n",
      "Spike train 14 inter-spike intervals (min, max, mean): 0.009067515929302772, 1.8147810404357188, 0.19813622529914154\n",
      "Spike train 15 inter-spike intervals (min, max, mean): 3.2527845633012475e-05, 1.497230274286494, 0.17648355376871913\n",
      "Spike train 16 inter-spike intervals (min, max, mean): 0.00021669502700660814, 1.7208025299585188, 0.1795250758729008\n",
      "Spike train 17 inter-spike intervals (min, max, mean): 0.00031270175338704576, 1.513003439628278, 0.17760632921275776\n",
      "Spike train 18 inter-spike intervals (min, max, mean): 0.000676236858168977, 1.422602945260678, 0.1769250154927503\n",
      "Spike train 19 inter-spike intervals (min, max, mean): 0.0006857010428120702, 1.7004219962764182, 0.17648178826530994\n",
      "Spike train 20 inter-spike intervals (min, max, mean): 0.00016237409204222786, 1.8181838885881234, 0.15269067210136364\n",
      "Spike train 21 inter-spike intervals (min, max, mean): 2.458771450619679e-05, 1.6788558866812764, 0.15134157488436029\n",
      "Spike train 22 inter-spike intervals (min, max, mean): 3.8982308581125835e-05, 1.8074993507794943, 0.1496736337333502\n",
      "Spike train 23 inter-spike intervals (min, max, mean): 5.3278597306416486e-05, 2.0282474903220873, 0.14968985399017862\n",
      "Spike train 24 inter-spike intervals (min, max, mean): 4.9675877903609944e-05, 1.6304387504478655, 0.15182564122549985\n",
      "Spike train 25 inter-spike intervals (min, max, mean): 0.015022797445226388, 1.5657710510771494, 0.21344062383464793\n",
      "Spike train 26 inter-spike intervals (min, max, mean): 0.015015527909781667, 2.009091813918303, 0.21580420487423016\n",
      "Spike train 27 inter-spike intervals (min, max, mean): 0.015010806262353071, 1.7047194748463426, 0.21517538432543576\n",
      "Spike train 28 inter-spike intervals (min, max, mean): 0.015040324156643692, 1.6947751498057357, 0.2198849767118467\n",
      "Spike train 29 inter-spike intervals (min, max, mean): 0.015016589351375842, 1.5634872448763417, 0.21098258401430706\n",
      "Spike train 30 inter-spike intervals (min, max, mean): 0.015071418069737774, 1.6323136484977567, 0.21589905566192066\n",
      "Spike train 31 inter-spike intervals (min, max, mean): 0.015005644967800436, 2.191847445673716, 0.21169551033981013\n",
      "Spike train 32 inter-spike intervals (min, max, mean): 0.015051653616410476, 1.6672724956526963, 0.21420157782513155\n",
      "Spike train 33 inter-spike intervals (min, max, mean): 0.015033781570423344, 1.4340583624715464, 0.21619598866201828\n",
      "Spike train 34 inter-spike intervals (min, max, mean): 0.015021330805950583, 2.108289766995995, 0.2138831270539101\n",
      "Spike train 35 inter-spike intervals (min, max, mean): 0.015006718053143686, 2.4101829479523076, 0.2166501512384756\n",
      "Spike train 36 inter-spike intervals (min, max, mean): 0.015002230843947473, 2.098756301201604, 0.215925709679436\n",
      "Spike train 37 inter-spike intervals (min, max, mean): 0.015027486960491387, 1.6842005431278722, 0.21170650799069218\n",
      "Spike train 38 inter-spike intervals (min, max, mean): 0.015022624225281334, 1.8171409413987476, 0.21678550344169245\n",
      "Spike train 39 inter-spike intervals (min, max, mean): 0.015062952663356555, 2.3293109342082516, 0.2145439345568811\n",
      "Spike train 40 inter-spike intervals (min, max, mean): 0.015009470590484852, 1.6770921551683386, 0.2111016523952015\n",
      "Spike train 41 inter-spike intervals (min, max, mean): 0.01506857926392513, 1.8821939996764172, 0.21794938122750693\n",
      "Spike train 42 inter-spike intervals (min, max, mean): 0.0150003277633175, 1.5383950380082752, 0.21684486831461153\n",
      "Spike train 43 inter-spike intervals (min, max, mean): 0.015001575267547196, 1.874004033635174, 0.21581874866486103\n",
      "Spike train 44 inter-spike intervals (min, max, mean): 0.015064784354080984, 2.1539024026030233, 0.21585763330000918\n",
      "Spike train 45 inter-spike intervals (min, max, mean): 0.015091239123989908, 1.8957561292876335, 0.2147285275663023\n",
      "Spike train 46 inter-spike intervals (min, max, mean): 0.015039939963799043, 1.7916333587537565, 0.2173350948843118\n",
      "Spike train 47 inter-spike intervals (min, max, mean): 0.01502106812256443, 1.5838614772596316, 0.21503743114145749\n",
      "Spike train 48 inter-spike intervals (min, max, mean): 0.015116637702703883, 1.9848859904781193, 0.21738039486011565\n",
      "Spike train 49 inter-spike intervals (min, max, mean): 0.01507213187699108, 1.482439616234842, 0.2144670137640841\n"
     ]
    }
   ],
   "source": [
    "# Calculate and print inter-spike intervals for each spike train\n",
    "for i, spikes in enumerate(spike_times):\n",
    "    if len(spikes) > 1:\n",
    "        inter_spike_intervals = np.diff(spikes)\n",
    "        print(f\"Spike train {i} inter-spike intervals (min, max, mean): {np.min(inter_spike_intervals)}, {np.max(inter_spike_intervals)}, {np.mean(inter_spike_intervals)}\")\n",
    "    else:\n",
    "        print(f\"Spike train {i} has fewer than 2 spikes, cannot compute intervals.\")\n"
   ]
  },
  {
   "cell_type": "code",
   "execution_count": 3,
   "metadata": {},
   "outputs": [
    {
     "name": "stdout",
     "output_type": "stream",
     "text": [
      "An error occurred: Couldn't compute a valid inter-spike interval\n"
     ]
    }
   ],
   "source": [
    "try:\n",
    "    # Define parameters\n",
    "    MaxLags = [10, 10, 10, 10, 10, 10, 10, 10, 10, 10, 10]  # 10 is the maximum lag for each bin size\n",
    "    BinSizes = [0.015, 0.025, 0.04, 0.06, 0.085, 0.15, 0.25, 0.4, 0.6, 0.85, 1.5]\n",
    "\n",
    "    # Call CADopti function\n",
    "    As_across_bins, As_across_bins_index, assembly = CADopti(spM, MaxLags, BinSizes)\n",
    "\n",
    "    if As_across_bins is None:\n",
    "        raise ValueError(\"No valid assemblies found. Check the input data and parameters.\")\n",
    "    \n",
    "    # Visualization\n",
    "    nneu = len(spike_times)  # number of recorded units\n",
    "    display = 'raw'  # or 'clustered'\n",
    "    Amatrix, Binvector, Unit_order, As_order = assembly_assignment_matrix(As_across_bins, nneu, BinSizes, display)\n",
    "\n",
    "    plt.figure()\n",
    "\n",
    "    plt.imshow(Amatrix)\n",
    "\n",
    "    plt.title('Assembly Assignment Matrix')\n",
    "\n",
    "    plt.xlabel('Assembly')\n",
    "\n",
    "    plt.ylabel('Neuron')\n",
    "\n",
    "    plt.colorbar(label='Assignment')\n",
    "\n",
    "    plt.savefig('assembly_assignment_matrix.png')\n",
    "\n",
    "    plt.close()\n",
    "\n",
    "    # Assembly Activation\n",
    "    lagChoice = 'duration'\n",
    "    act_count = 'full'\n",
    "    assembly_activity = assembly_activity_function(As_across_bins, assembly, spike_times, BinSizes, lagChoice, act_count)\n",
    "\n",
    "    plt.figure(figsize=(10, 10))\n",
    "    for i, activity in enumerate(assembly_activity):\n",
    "        plt.subplot(len(assembly_activity), 1, i+1)\n",
    "        plt.plot(activity[:, 0], activity[:, 1])\n",
    "        plt.title(f'Assembly {i+1} Activity')\n",
    "        plt.xlabel('Time')\n",
    "        plt.ylabel('Activity')\n",
    "    plt.tight_layout()\n",
    "    plt.savefig('assembly_activity.png')\n",
    "    plt.close()\n",
    "\n",
    "    # Print summary of detected assemblies\n",
    "    print(\"\\nDetected Assemblies:\")\n",
    "    for i, assembly in enumerate(As_across_bins):\n",
    "        print(f\"Assembly {i+1}:\")\n",
    "        print(f\"  Elements: {assembly['elements']}\")\n",
    "        print(f\"  Bin size: {assembly['bin']}\")\n",
    "        print(f\"  Lags: {assembly['lag']}\")\n",
    "        print(f\"  p-values: {assembly['pr']}\")\n",
    "        print(f\"  Occurrences: {assembly['Noccurrences']}\")\n",
    "        print()\n",
    "except Exception as e:\n",
    "    print(f\"An error occurred: {e}\")"
   ]
  }
 ],
 "metadata": {
  "kernelspec": {
   "display_name": "pythoncadopti",
   "language": "python",
   "name": "python3"
  },
  "language_info": {
   "codemirror_mode": {
    "name": "ipython",
    "version": 3
   },
   "file_extension": ".py",
   "mimetype": "text/x-python",
   "name": "python",
   "nbconvert_exporter": "python",
   "pygments_lexer": "ipython3",
   "version": "3.12.4"
  }
 },
 "nbformat": 4,
 "nbformat_minor": 2
}
